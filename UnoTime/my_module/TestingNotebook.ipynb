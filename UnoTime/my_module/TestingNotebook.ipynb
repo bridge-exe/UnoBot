{
 "cells": [
  {
   "cell_type": "code",
   "execution_count": null,
   "metadata": {
    "scrolled": false
   },
   "outputs": [],
   "source": [
    "import unobot\n",
    "unobot.player_turn()"
   ]
  },
  {
   "cell_type": "code",
   "execution_count": null,
   "metadata": {},
   "outputs": [],
   "source": [
    "\"\"\"Test for my functions.\"\"\"\n",
    "\n",
    "import unobot as u\n",
    "\n",
    "def test_draw_num():\n",
    "    assert callable(u.draw_num)\n",
    "    assert u.draw_num(4, 'player') == 4\n",
    "    assert u.draw_num(2, 'computer') == 2\n",
    "\n",
    "def test_win():\n",
    "    assert callable(u.win)\n",
    "    assert u.win(True, 'player') == False\n",
    "    assert u.win(True, 'computer') == False\n",
    "\n",
    "def test_is_playable():\n",
    "    assert callable(u.is_playable)\n",
    "    assert isinstance(u.is_playable('skip', 'r1'), bool)\n",
    "    assert(u.is_playable('+2', 'r1') == True)\n",
    "    assert(u.is_playable('r1', '+2') == True)\n",
    "    assert(u.is_playable('r1', 'r1') == True)\n",
    "    assert(u.is_playable('b1', 'r1') == True)\n",
    "    assert(u.is_playable('r1', 'b6') == False)"
   ]
  },
  {
   "cell_type": "code",
   "execution_count": null,
   "metadata": {
    "scrolled": true
   },
   "outputs": [],
   "source": [
    "!pytest test_functions.py"
   ]
  },
  {
   "cell_type": "markdown",
   "metadata": {},
   "source": [
    "____________"
   ]
  }
 ],
 "metadata": {
  "kernelspec": {
   "display_name": "Python 3",
   "language": "python",
   "name": "python3"
  },
  "language_info": {
   "codemirror_mode": {
    "name": "ipython",
    "version": 3
   },
   "file_extension": ".py",
   "mimetype": "text/x-python",
   "name": "python",
   "nbconvert_exporter": "python",
   "pygments_lexer": "ipython3",
   "version": "3.7.6"
  }
 },
 "nbformat": 4,
 "nbformat_minor": 4
}
